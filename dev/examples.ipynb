{
 "cells": [
  {
   "cell_type": "markdown",
   "id": "3ed60cce-b18d-41aa-a037-b92348da1fc7",
   "metadata": {
    "id": "3ed60cce-b18d-41aa-a037-b92348da1fc7"
   },
   "source": [
    "# Variables"
   ]
  },
  {
   "cell_type": "markdown",
   "id": "62a6cc64-745c-496a-ba06-37588d8e9c27",
   "metadata": {
    "id": "62a6cc64-745c-496a-ba06-37588d8e9c27"
   },
   "source": [
    "## Strings"
   ]
  },
  {
   "cell_type": "code",
   "execution_count": 1,
   "id": "ce6f5443-42cf-456c-b260-c4b49d91b89f",
   "metadata": {
    "id": "ce6f5443-42cf-456c-b260-c4b49d91b89f"
   },
   "outputs": [
    {
     "name": "stdout",
     "output_type": "stream",
     "text": [
      "Kafka, Franz\n"
     ]
    }
   ],
   "source": [
    "# here are the names\n",
    "first_name = \"Franz\"\n",
    "last_name = \"Kafka\"\n",
    "print(last_name + \", \" + first_name)"
   ]
  },
  {
   "cell_type": "code",
   "execution_count": 2,
   "id": "4b8f0fee-6504-4558-b9e6-b649f5423f84",
   "metadata": {
    "id": "4b8f0fee-6504-4558-b9e6-b649f5423f84"
   },
   "outputs": [
    {
     "name": "stdout",
     "output_type": "stream",
     "text": [
      "Franz Kafka\n"
     ]
    }
   ],
   "source": [
    "print(f\"{first_name} {last_name}\")"
   ]
  },
  {
   "cell_type": "code",
   "execution_count": 3,
   "id": "ce264556-912a-464e-8ebd-21abcc716d80",
   "metadata": {},
   "outputs": [
    {
     "data": {
      "text/plain": [
       "'The person Franz is 20'"
      ]
     },
     "execution_count": 3,
     "metadata": {},
     "output_type": "execute_result"
    }
   ],
   "source": [
    "age = 20\n",
    "\"The person {} is {}\".format(first_name, age)"
   ]
  },
  {
   "cell_type": "code",
   "execution_count": 4,
   "id": "66fd10fa-b023-4e96-9521-4d50e22a6bec",
   "metadata": {},
   "outputs": [
    {
     "data": {
      "text/plain": [
       "'age = 20, name = Franz, city = London'"
      ]
     },
     "execution_count": 4,
     "metadata": {},
     "output_type": "execute_result"
    }
   ],
   "source": [
    "\"age = {1}, name = {0}, city = {2}\".format(first_name,age, \"London\")"
   ]
  },
  {
   "cell_type": "markdown",
   "id": "50769aec-6eb8-4a20-b091-e28e2953187e",
   "metadata": {},
   "source": [
    "### regular expressions"
   ]
  },
  {
   "cell_type": "code",
   "execution_count": 5,
   "id": "252b5ae9-fc60-43be-b301-4898ecb3434a",
   "metadata": {},
   "outputs": [
    {
     "name": "stdout",
     "output_type": "stream",
     "text": [
      "['tes', 'tes']\n",
      "['message']\n"
     ]
    }
   ],
   "source": [
    "import re\n",
    "\n",
    "message = \"This is a test message for testing. IdCode = 2384-234.\"\n",
    "print(re.findall(\"t.s\", message))\n",
    "print(re.findall(\"m.ssage\", message))"
   ]
  },
  {
   "cell_type": "code",
   "execution_count": 6,
   "id": "01a94a76-df42-4309-8298-6b702bb33140",
   "metadata": {},
   "outputs": [
    {
     "name": "stdout",
     "output_type": "stream",
     "text": [
      "This is a test message for testing. IdCode = XXXX-XXX.\n"
     ]
    }
   ],
   "source": [
    "print(re.sub(r\"\\d\", \"X\", message))"
   ]
  },
  {
   "cell_type": "code",
   "execution_count": 7,
   "id": "c09c60c6-8b4f-4b3d-b367-444024cf6f17",
   "metadata": {},
   "outputs": [
    {
     "name": "stdout",
     "output_type": "stream",
     "text": [
      "111 222 333\n",
      "111|222|333\n",
      "111|222|333 (finished)"
     ]
    }
   ],
   "source": [
    "print(\"111\", \"222\", \"333\")\n",
    "print(\"111\", \"222\", \"333\", sep=\"|\")\n",
    "print(\"111\", \"222\", \"333\", sep=\"|\", end=\" (finished)\")"
   ]
  },
  {
   "cell_type": "markdown",
   "id": "197313df-b742-4f59-b742-35017b392f8f",
   "metadata": {
    "id": "197313df-b742-4f59-b742-35017b392f8f"
   },
   "source": [
    "## Numbers"
   ]
  },
  {
   "cell_type": "code",
   "execution_count": 8,
   "id": "0ad6d179-5d10-444d-9825-0fca3a72cab1",
   "metadata": {
    "id": "0ad6d179-5d10-444d-9825-0fca3a72cab1"
   },
   "outputs": [],
   "source": [
    "temperature = -2"
   ]
  },
  {
   "cell_type": "code",
   "execution_count": 9,
   "id": "f8db8ca5-a7f7-4329-85da-43ffe142cc88",
   "metadata": {
    "id": "f8db8ca5-a7f7-4329-85da-43ffe142cc88"
   },
   "outputs": [
    {
     "data": {
      "text/plain": [
       "2.5"
      ]
     },
     "execution_count": 9,
     "metadata": {},
     "output_type": "execute_result"
    }
   ],
   "source": [
    "1 + 1.5"
   ]
  },
  {
   "cell_type": "code",
   "execution_count": 10,
   "id": "1f411547-0732-457b-862f-2a25803526b2",
   "metadata": {
    "id": "1f411547-0732-457b-862f-2a25803526b2",
    "jupyter": {
     "source_hidden": true
    }
   },
   "outputs": [
    {
     "data": {
      "text/plain": [
       "6"
      ]
     },
     "execution_count": 10,
     "metadata": {},
     "output_type": "execute_result"
    }
   ],
   "source": [
    "kilometers_start = 6\n",
    "kilometers_end = 12\n",
    "distance = kilometers_end - kilometers_start\n",
    "distance"
   ]
  },
  {
   "cell_type": "code",
   "execution_count": 11,
   "id": "34026fdc-834d-429f-9be5-d081e2822c39",
   "metadata": {
    "id": "34026fdc-834d-429f-9be5-d081e2822c39",
    "jupyter": {
     "source_hidden": true
    }
   },
   "outputs": [
    {
     "name": "stdout",
     "output_type": "stream",
     "text": [
      "9.0\n",
      "You reached the halfway point at 9 kilometers.\n"
     ]
    }
   ],
   "source": [
    "halfway = (distance / 2) + kilometers_start\n",
    "print(halfway)\n",
    "print(f\"You reached the halfway point at {round(halfway)} kilometers.\")"
   ]
  },
  {
   "cell_type": "code",
   "execution_count": 12,
   "id": "d196e31e-570e-4ec8-ac31-c68e989025af",
   "metadata": {
    "id": "d196e31e-570e-4ec8-ac31-c68e989025af",
    "jupyter": {
     "source_hidden": true
    }
   },
   "outputs": [
    {
     "name": "stdout",
     "output_type": "stream",
     "text": [
      "You reached the halfway point at nine kilometers.\n"
     ]
    }
   ],
   "source": [
    "from num2words import num2words\n",
    "print(f\"You reached the halfway point at {num2words(halfway)} kilometers.\")"
   ]
  },
  {
   "cell_type": "code",
   "execution_count": 13,
   "id": "9c88d19d-19e9-4f20-8eed-0851d7973c34",
   "metadata": {
    "id": "9c88d19d-19e9-4f20-8eed-0851d7973c34"
   },
   "outputs": [
    {
     "name": "stdout",
     "output_type": "stream",
     "text": [
      "Bei Kilometer neun haben Sie die Halbzeit erreicht.\n"
     ]
    }
   ],
   "source": [
    "from num2words import num2words\n",
    "print(f\"Bei Kilometer {num2words(halfway, lang='de')} haben Sie die Halbzeit erreicht.\")"
   ]
  },
  {
   "cell_type": "code",
   "execution_count": 14,
   "id": "fd848810-2c70-4099-9a47-b4f1ad7b8387",
   "metadata": {},
   "outputs": [
    {
     "data": {
      "text/plain": [
       "'00123'"
      ]
     },
     "execution_count": 14,
     "metadata": {},
     "output_type": "execute_result"
    }
   ],
   "source": [
    " f\"{123:05d}\""
   ]
  },
  {
   "cell_type": "code",
   "execution_count": 15,
   "id": "c6ae578d-3d24-4976-aac2-5dd6df10c6bb",
   "metadata": {},
   "outputs": [
    {
     "data": {
      "text/plain": [
       "'  123'"
      ]
     },
     "execution_count": 15,
     "metadata": {},
     "output_type": "execute_result"
    }
   ],
   "source": [
    " f\"{123: 5d}\""
   ]
  },
  {
   "cell_type": "code",
   "execution_count": 16,
   "id": "a3dd0f93-5695-4810-afa5-98b3dce45f1e",
   "metadata": {},
   "outputs": [
    {
     "name": "stdout",
     "output_type": "stream",
     "text": [
      "age is 8\n",
      "age is 8\n"
     ]
    }
   ],
   "source": [
    "# f or F\n",
    "message1 = f\"age is {5 + 3}\"\n",
    "message2 = F\"age is {5 + 3}\"\n",
    "print(message1)\n",
    "print(message2)"
   ]
  },
  {
   "cell_type": "code",
   "execution_count": 17,
   "id": "d5050378-f3f4-4daf-ae62-0a5533989861",
   "metadata": {},
   "outputs": [
    {
     "data": {
      "text/plain": [
       "'----------REPORT 382----------'"
      ]
     },
     "execution_count": 17,
     "metadata": {},
     "output_type": "execute_result"
    }
   ],
   "source": [
    "title = \"REPORT 382\".center(30,\"-\")\n",
    "title"
   ]
  },
  {
   "cell_type": "code",
   "execution_count": 18,
   "id": "3c3daaf3-5b28-4657-bbaa-a57e7fc91d0d",
   "metadata": {},
   "outputs": [
    {
     "data": {
      "text/plain": [
       "'827-228-922-199-201'"
      ]
     },
     "execution_count": 18,
     "metadata": {},
     "output_type": "execute_result"
    }
   ],
   "source": [
    "nums = (827,228,922,199,201)\n",
    "\"-\".join(str(num) for num in nums)"
   ]
  },
  {
   "cell_type": "code",
   "execution_count": null,
   "id": "9101061e-3fae-4fc2-942d-9d31b705048e",
   "metadata": {},
   "outputs": [],
   "source": []
  },
  {
   "cell_type": "markdown",
   "id": "6a5fef16-711d-4e27-a464-086768db5c4a",
   "metadata": {
    "id": "6a5fef16-711d-4e27-a464-086768db5c4a"
   },
   "source": [
    "## Booleans"
   ]
  },
  {
   "cell_type": "code",
   "execution_count": 19,
   "id": "1592dfa7-ce28-4416-8a7b-77f9d532aeac",
   "metadata": {
    "id": "1592dfa7-ce28-4416-8a7b-77f9d532aeac",
    "jupyter": {
     "source_hidden": true
    }
   },
   "outputs": [
    {
     "data": {
      "text/plain": [
       "False"
      ]
     },
     "execution_count": 19,
     "metadata": {},
     "output_type": "execute_result"
    }
   ],
   "source": [
    "is_logged_in = False\n",
    "is_logged_in"
   ]
  },
  {
   "cell_type": "code",
   "execution_count": 20,
   "id": "1d87266e-c0d4-4394-ad31-17a9638c705b",
   "metadata": {
    "id": "1d87266e-c0d4-4394-ad31-17a9638c705b",
    "jupyter": {
     "source_hidden": true
    }
   },
   "outputs": [
    {
     "name": "stdout",
     "output_type": "stream",
     "text": [
      "Please log in.\n"
     ]
    }
   ],
   "source": [
    "if is_logged_in:\n",
    "    print(\"Welcome.\")\n",
    "else:\n",
    "    print(\"Please log in.\")"
   ]
  },
  {
   "cell_type": "markdown",
   "id": "2702ab04-68da-4e34-a280-6a9fc73391e2",
   "metadata": {
    "id": "2702ab04-68da-4e34-a280-6a9fc73391e2",
    "jp-MarkdownHeadingCollapsed": true
   },
   "source": [
    "## Lists"
   ]
  },
  {
   "cell_type": "code",
   "execution_count": 21,
   "id": "bee034db-c8b1-44f1-b0b5-a34744de42c1",
   "metadata": {
    "id": "bee034db-c8b1-44f1-b0b5-a34744de42c1",
    "jupyter": {
     "source_hidden": true
    }
   },
   "outputs": [
    {
     "data": {
      "text/plain": [
       "['red', 'blue', 'green']"
      ]
     },
     "execution_count": 21,
     "metadata": {},
     "output_type": "execute_result"
    }
   ],
   "source": [
    "colors = [\"red\", \"blue\", \"green\"]\n",
    "colors"
   ]
  },
  {
   "cell_type": "code",
   "execution_count": 22,
   "id": "4b736929-bfd0-4cf2-afdc-62c14d9e84f9",
   "metadata": {
    "id": "4b736929-bfd0-4cf2-afdc-62c14d9e84f9",
    "jupyter": {
     "source_hidden": true
    }
   },
   "outputs": [
    {
     "data": {
      "text/plain": [
       "['red', 'blue', 'green', 'yellow']"
      ]
     },
     "execution_count": 22,
     "metadata": {},
     "output_type": "execute_result"
    }
   ],
   "source": [
    "colors.append(\"yellow\")\n",
    "colors"
   ]
  },
  {
   "cell_type": "code",
   "execution_count": 23,
   "id": "624ea4dd-7909-4c5a-9a5e-4f81c6d61eaf",
   "metadata": {
    "id": "624ea4dd-7909-4c5a-9a5e-4f81c6d61eaf",
    "jupyter": {
     "source_hidden": true
    }
   },
   "outputs": [
    {
     "data": {
      "text/plain": [
       "['red', 'blue', 'green']"
      ]
     },
     "execution_count": 23,
     "metadata": {},
     "output_type": "execute_result"
    }
   ],
   "source": [
    "colors.pop()\n",
    "colors"
   ]
  },
  {
   "cell_type": "markdown",
   "id": "7fe7bf89-6344-4b69-a1de-1fe571e7a175",
   "metadata": {
    "id": "7fe7bf89-6344-4b69-a1de-1fe571e7a175",
    "jp-MarkdownHeadingCollapsed": true
   },
   "source": [
    "## Dictionaries"
   ]
  },
  {
   "cell_type": "code",
   "execution_count": 24,
   "id": "cae63fdd-9c6a-4d1d-8929-4aebe811f8bd",
   "metadata": {
    "id": "cae63fdd-9c6a-4d1d-8929-4aebe811f8bd",
    "jupyter": {
     "source_hidden": true
    }
   },
   "outputs": [
    {
     "name": "stdout",
     "output_type": "stream",
     "text": [
      "{\n",
      "  \"name\": \"Hans\",\n",
      "  \"age\": 34,\n",
      "  \"is_registered\": false\n",
      "}\n"
     ]
    }
   ],
   "source": [
    "import json\n",
    "\n",
    "person = {\n",
    "    \"name\": \"Hans\",\n",
    "    \"age\": 34,\n",
    "    \"is_registered\": False,\n",
    "}\n",
    "print(json.dumps(person, indent=2))"
   ]
  },
  {
   "cell_type": "code",
   "execution_count": 25,
   "id": "cd2c77ab-7d13-47c8-91dc-55ceb1041142",
   "metadata": {
    "id": "cd2c77ab-7d13-47c8-91dc-55ceb1041142",
    "jupyter": {
     "source_hidden": true
    }
   },
   "outputs": [
    {
     "data": {
      "text/plain": [
       "['Python', 'Data Analysis']"
      ]
     },
     "execution_count": 25,
     "metadata": {},
     "output_type": "execute_result"
    }
   ],
   "source": [
    "person2 = {\n",
    "    \"name\": \"Alice\",\n",
    "    \"age\": 30,\n",
    "    \"address\": {\n",
    "        \"street\": \"123 Main St\",\n",
    "        \"city\": \"New York\",\n",
    "        \"zip\": \"83838\"\n",
    "    },\n",
    "    \"skills\": [\"Python\", \"Data Analysis\"]\n",
    "}\n",
    "person2['skills']"
   ]
  },
  {
   "cell_type": "code",
   "execution_count": 26,
   "id": "0ce90f55-9826-4eba-847f-b5662d7471dd",
   "metadata": {
    "id": "0ce90f55-9826-4eba-847f-b5662d7471dd",
    "jupyter": {
     "source_hidden": true
    }
   },
   "outputs": [
    {
     "data": {
      "text/plain": [
       "{'street': '123 Main St', 'city': 'New York', 'zip': '83838'}"
      ]
     },
     "execution_count": 26,
     "metadata": {},
     "output_type": "execute_result"
    }
   ],
   "source": [
    "person2['address']"
   ]
  },
  {
   "cell_type": "code",
   "execution_count": 27,
   "id": "edfa58ab-eca0-46f7-876f-1d061e006be7",
   "metadata": {
    "id": "edfa58ab-eca0-46f7-876f-1d061e006be7",
    "jupyter": {
     "source_hidden": true
    },
    "scrolled": true
   },
   "outputs": [
    {
     "name": "stdout",
     "output_type": "stream",
     "text": [
      "{\n",
      "  \"street\": \"123 Main St\",\n",
      "  \"city\": \"New York\",\n",
      "  \"zip\": \"83838\"\n",
      "}\n"
     ]
    }
   ],
   "source": [
    "print(json.dumps(person2['address'], indent=2))"
   ]
  },
  {
   "cell_type": "code",
   "execution_count": 28,
   "id": "0c8e244c-2989-42e6-85dd-9dce31eb9636",
   "metadata": {
    "id": "0c8e244c-2989-42e6-85dd-9dce31eb9636",
    "jupyter": {
     "source_hidden": true
    }
   },
   "outputs": [
    {
     "name": "stdout",
     "output_type": "stream",
     "text": [
      "Alice has 2 skills: Python, Data Analysis\n"
     ]
    }
   ],
   "source": [
    "print(f\"{person2['name']} has {len(person2['skills'])} skills: {', '.join(person2['skills'])}\")"
   ]
  },
  {
   "cell_type": "markdown",
   "id": "6e32dc3b-bdc0-4870-afcc-3b1ae3ae7466",
   "metadata": {
    "id": "6e32dc3b-bdc0-4870-afcc-3b1ae3ae7466"
   },
   "source": [
    "## Functions"
   ]
  },
  {
   "cell_type": "markdown",
   "id": "431ee714-b51f-4240-b95d-b391a728797c",
   "metadata": {
    "id": "431ee714-b51f-4240-b95d-b391a728797c"
   },
   "source": [
    "*Functions are **reusable** blocks of code that perform a **specific task** when called, helping you **avoid repetition** and organize your code** logically.*"
   ]
  },
  {
   "cell_type": "code",
   "execution_count": 29,
   "id": "f27ef05e-f190-4ecb-85cc-5930f2806201",
   "metadata": {
    "id": "f27ef05e-f190-4ecb-85cc-5930f2806201",
    "jupyter": {
     "source_hidden": true
    }
   },
   "outputs": [],
   "source": [
    "def add(a,b):\n",
    "    return a + b"
   ]
  },
  {
   "cell_type": "code",
   "execution_count": 30,
   "id": "9d02660d-e96a-4eee-89ae-c63983ef8d11",
   "metadata": {
    "id": "9d02660d-e96a-4eee-89ae-c63983ef8d11",
    "jupyter": {
     "source_hidden": true
    }
   },
   "outputs": [
    {
     "data": {
      "text/plain": [
       "10"
      ]
     },
     "execution_count": 30,
     "metadata": {},
     "output_type": "execute_result"
    }
   ],
   "source": [
    "add(4,6)"
   ]
  },
  {
   "cell_type": "code",
   "execution_count": 31,
   "id": "e1aa41a6-dbd7-4ca4-9a14-81ca4d37eb80",
   "metadata": {
    "id": "e1aa41a6-dbd7-4ca4-9a14-81ca4d37eb80",
    "jupyter": {
     "source_hidden": true
    }
   },
   "outputs": [
    {
     "data": {
      "text/plain": [
       "20"
      ]
     },
     "execution_count": 31,
     "metadata": {},
     "output_type": "execute_result"
    }
   ],
   "source": [
    "add(11,9)"
   ]
  },
  {
   "cell_type": "markdown",
   "id": "4f34287f-3636-4194-907b-95fe693a4458",
   "metadata": {},
   "source": [
    "# Iterators"
   ]
  },
  {
   "cell_type": "markdown",
   "id": "073f5770-9236-4ddc-8c26-f1d165546b96",
   "metadata": {},
   "source": [
    "## Synchronous iterator"
   ]
  },
  {
   "cell_type": "code",
   "execution_count": 32,
   "id": "452b0ef2-bf70-47ff-8618-b0ab7866e035",
   "metadata": {},
   "outputs": [
    {
     "name": "stdout",
     "output_type": "stream",
     "text": [
      "1\n",
      "2\n",
      "3\n",
      "4\n",
      "5\n"
     ]
    }
   ],
   "source": [
    "class TheCounter:\n",
    "    def __init__(self, start, finish):\n",
    "        self.start = start\n",
    "        self.finish = finish\n",
    "        self.current = start\n",
    "\n",
    "    def __iter__(self):\n",
    "        return self\n",
    "\n",
    "    def __next__(self):\n",
    "        if self.current > self.finish:\n",
    "            raise StopIteration\n",
    "        value = self.current\n",
    "        self.current += 1\n",
    "        return value\n",
    "\n",
    "for num in TheCounter(1,5):\n",
    "    print (num)\n"
   ]
  },
  {
   "cell_type": "markdown",
   "id": "f3b8e8e0-4ae9-41ce-b72d-b003ae57c547",
   "metadata": {},
   "source": [
    "## Asynchronous Iterator"
   ]
  },
  {
   "cell_type": "code",
   "execution_count": 33,
   "id": "ac226b41-f6f0-4a04-9807-5403ff18fb6e",
   "metadata": {},
   "outputs": [
    {
     "name": "stdout",
     "output_type": "stream",
     "text": [
      "1\n",
      "2\n",
      "3\n",
      "4\n",
      "5\n"
     ]
    }
   ],
   "source": [
    "import asyncio\n",
    "\n",
    "class TheAsyncCounter:\n",
    "    def __init__(self, start, finish):\n",
    "        self.start = start\n",
    "        self.finish = finish\n",
    "        self.current = start\n",
    "\n",
    "    def __aiter__(self):\n",
    "        return self\n",
    "\n",
    "    async def __anext__(self):\n",
    "        if self.current > self.finish:\n",
    "            raise StopAsyncIteration\n",
    "        value = self.current\n",
    "        self.current += 1\n",
    "        await asyncio.sleep(0.5) # simulate processing time\n",
    "        return value\n",
    "\n",
    "async def main():\n",
    "    async for num in TheAsyncCounter(1,5):\n",
    "        print (num)\n",
    "\n",
    "## asyncio.run(main())\n",
    "await main()"
   ]
  },
  {
   "cell_type": "markdown",
   "id": "f77234d6",
   "metadata": {},
   "source": [
    "# Data Functions"
   ]
  },
  {
   "cell_type": "code",
   "execution_count": 34,
   "id": "6540a45d",
   "metadata": {},
   "outputs": [
    {
     "name": "stdout",
     "output_type": "stream",
     "text": [
      "the max is 823\n",
      "the min is 2\n",
      "the shortest word is red\n",
      "the longest word is orange-yellow\n"
     ]
    }
   ],
   "source": [
    "# min/max\n",
    "numbers = [11,6,3,7,2,88,2, 823]\n",
    "print(f\"the max is {max(numbers)}\")\n",
    "print(f\"the min is {min(numbers)}\")\n",
    "\n",
    "# length of string\n",
    "colors = [\"red\", \"blue\", \"orange-yellow\", \"green\", \"yellow\"]\n",
    "print(f\"the shortest word is {min(colors, key=len)}\")\n",
    "print(f\"the longest word is {max(colors, key=len)}\")"
   ]
  },
  {
   "cell_type": "code",
   "execution_count": 35,
   "id": "93e59b02",
   "metadata": {},
   "outputs": [
    {
     "name": "stdout",
     "output_type": "stream",
     "text": [
      "['red', 'blue', 'green', 'brown', 'purple']\n"
     ]
    }
   ],
   "source": [
    "import json\n",
    "\n",
    "with open('./test_data/data001.json') as f:\n",
    "    data = json.load(f)\n",
    "    print(data)"
   ]
  },
  {
   "cell_type": "code",
   "execution_count": 36,
   "id": "8765aca2",
   "metadata": {},
   "outputs": [
    {
     "name": "stdout",
     "output_type": "stream",
     "text": [
      "{'api': '1.8.1',\n",
      " 'count': 11745,\n",
      " 'generated': 1584583554000,\n",
      " 'status': 200,\n",
      " 'title': 'USGS All Earthquakes, Past Month',\n",
      " 'url': 'https://earthquake.usgs.gov/earthquakes/feed/v1.0/summary/all_month.geojson'}\n"
     ]
    }
   ],
   "source": [
    "from pprint import pprint\n",
    "\n",
    "# display a part of the object\n",
    "with open('./test_data/30dayquakes.json') as f:\n",
    "    data = json.load(f)\n",
    "    pprint(data['metadata'])"
   ]
  },
  {
   "cell_type": "code",
   "execution_count": 37,
   "id": "26383e85",
   "metadata": {},
   "outputs": [
    {
     "name": "stdout",
     "output_type": "stream",
     "text": [
      "test\n",
      "Number of earthquakes: 11745\n",
      "test2\n"
     ]
    }
   ],
   "source": [
    "# Earthquake data\n",
    "# print(f\"TITLE: {data['metadata']['title']}\")\n",
    "print(\"test\")\n",
    "print(f\"Number of earthquakes: {len(data['features'])}\")\n",
    "print(\"test2\")"
   ]
  },
  {
   "cell_type": "code",
   "execution_count": 3,
   "id": "ff44fd23-c35b-482a-886a-7c82a5a04d80",
   "metadata": {},
   "outputs": [
    {
     "name": "stdout",
     "output_type": "stream",
     "text": [
      "True\n",
      "False\n",
      "15\n"
     ]
    }
   ],
   "source": [
    "nums = [0,1,2,3,4,5]\n",
    "print(any(nums))\n",
    "print(all(nums))\n",
    "print(sum(nums))"
   ]
  },
  {
   "cell_type": "markdown",
   "id": "c372714f-bef4-496f-a659-9cf604c48f7f",
   "metadata": {},
   "source": [
    "# Bitwise Operators"
   ]
  },
  {
   "cell_type": "code",
   "execution_count": 40,
   "id": "da971edc-6ae5-4222-85bb-16758b6ad97e",
   "metadata": {},
   "outputs": [
    {
     "name": "stdout",
     "output_type": "stream",
     "text": [
      "10 & 4 = 0\n",
      "10 | 4 = 14\n",
      "10 ^ 4 = 14\n",
      "~10 = -11\n",
      "10 << 2 = 40\n",
      "10 >> 1 = 5\n",
      "bit count = 2\n"
     ]
    }
   ],
   "source": [
    "# Example integers\n",
    "a = 10  # Binary: 1010\n",
    "b = 4   # Binary: 0100\n",
    "\n",
    "# 1. Bitwise AND (&)\n",
    "bitwise_and = a & b  # 1010 & 0100 = 0000 (0)\n",
    "print(f\"{a} & {b} = {bitwise_and}\")  # Output: 10 & 4 = 0\n",
    "\n",
    "# 2. Bitwise OR (|)\n",
    "bitwise_or = a | b   # 1010 | 0100 = 1110 (14)\n",
    "print(f\"{a} | {b} = {bitwise_or}\")   # Output: 10 | 4 = 14\n",
    "\n",
    "# 3. Bitwise XOR (^)\n",
    "bitwise_xor = a ^ b  # 1010 ^ 0100 = 1110 (14)\n",
    "print(f\"{a} ^ {b} = {bitwise_xor}\")  # Output: 10 ^ 4 = 14\n",
    "\n",
    "# 4. Bitwise NOT (~)\n",
    "bitwise_not = ~a     # ~1010 = ...11110101 (2's complement: -11)\n",
    "print(f\"~{a} = {bitwise_not}\")       # Output: ~10 = -11\n",
    "\n",
    "# 5. Left Shift (<<)\n",
    "left_shift = a << 2  # 1010 << 2 = 101000 (40)\n",
    "print(f\"{a} << 2 = {left_shift}\")    # Output: 10 << 2 = 40\n",
    "\n",
    "# 6. Right Shift (>>)\n",
    "right_shift = a >> 1 # 1010 >> 1 = 0101 (5)\n",
    "print(f\"{a} >> 1 = {right_shift}\")   # Output: 10 >> 1 = 5\n",
    "\n",
    "print(f\"bit count = {a.bit_count()}\")"
   ]
  },
  {
   "cell_type": "markdown",
   "id": "f8c849e6-d15b-4380-abaa-2612bef792b6",
   "metadata": {},
   "source": [
    "# Pandas"
   ]
  },
  {
   "cell_type": "code",
   "execution_count": 38,
   "id": "2e4df17e-f2c0-4cbe-95f4-d75dc0277c13",
   "metadata": {
    "jupyter": {
     "source_hidden": true
    }
   },
   "outputs": [],
   "source": [
    "import pandas as pd\n"
   ]
  }
 ],
 "metadata": {
  "colab": {
   "provenance": []
  },
  "kernelspec": {
   "display_name": "Python (Dpod site)",
   "language": "python",
   "name": "dpodsitevenv"
  },
  "language_info": {
   "codemirror_mode": {
    "name": "ipython",
    "version": 3
   },
   "file_extension": ".py",
   "mimetype": "text/x-python",
   "name": "python",
   "nbconvert_exporter": "python",
   "pygments_lexer": "ipython3",
   "version": "3.12.2"
  }
 },
 "nbformat": 4,
 "nbformat_minor": 5
}
